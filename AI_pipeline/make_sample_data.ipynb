{
 "cells": [
  {
   "cell_type": "code",
   "execution_count": null,
   "metadata": {},
   "outputs": [],
   "source": [
    "import sqlite3\n",
    "from PIL import Image\n",
    "import io\n",
    "\n",
    "# Function to convert image into binary data\n",
    "def convert_image_to_blob(filename):\n",
    "\twith open(filename, 'rb') as image_file:\n",
    "\t\treturn image_file.read()\n",
    "\n",
    "# Database connection\n",
    "connection = sqlite3.connect('test_data.db')\n",
    "cursor = connection.cursor()\n",
    "\n",
    "# Creating table\n",
    "cursor.execute('''\n",
    "CREATE TABLE IF NOT EXISTS maptodon_raw (\n",
    "\tuuid AUTOINCREMENT PRIMARY KEY,\n",
    "\tlat FLOAT NOT NULL,\n",
    "\tlong FLOAT NOT NULL,\n",
    "\torientation_x FLOAT NOT NULL,\n",
    "\torientation_y FLOAT NOT NULL,\n",
    "\torientation_z FLOAT NOT NULL,\n",
    "\tts TIMESTAMP NOT NULL,\n",
    "\timage_blob BLOB NOT NULL\n",
    ")\n",
    "''')\n",
    "\n",
    "# Sample data\n",
    "sample_data = [\n",
    "\t('uuid1', 37.7749, -122.4194, 1.0, 0.0, 0.0, '2023-10-14 00:00:00', convert_image_to_blob('sample/image1.jpg')),\n",
    "\t('uuid2', 40.7128, -74.0060, 0.0, 1.0, 0.0, '2023-10-15 00:00:00', convert_image_to_blob('sample/image2.jpg')),\n",
    "\t('uuid3', 51.5074, -0.1278, 0.0, 0.0, 1.0, '2023-10-16 00:00:00', convert_image_to_blob('sample/image3.jpg')),\n",
    "\t('uuid4', 34.0522, -118.2437, 0.5, 0.5, 0.0, '2023-10-17 00:00:00', convert_image_to_blob('sample/image4.jpg')),\n",
    "\t('uuid5', 48.8566, 2.3522, 0.0, 0.5, 0.5, '2023-10-18 00:00:00', convert_image_to_blob('sample/image5.jpg')),\n",
    "]\n",
    "\n",
    "# Inserting sample data into the table\n",
    "cursor.executemany('''\n",
    "INSERT INTO maptodon_raw (uuid, lat, long, orientation_x, orientation_y, orientation_z, ts, image_blob) \n",
    "VALUES (?, ?, ?, ?, ?, ?, ?, ?)\n",
    "''', sample_data)\n",
    "\n",
    "# Committing the transaction\n",
    "connection.commit()\n",
    "\n",
    "# Closing the connection\n",
    "connection.close()\n"
   ]
  }
 ],
 "metadata": {
  "kernelspec": {
   "display_name": "tf",
   "language": "python",
   "name": "python3"
  },
  "language_info": {
   "name": "python",
   "version": "3.9.15"
  }
 },
 "nbformat": 4,
 "nbformat_minor": 2
}
